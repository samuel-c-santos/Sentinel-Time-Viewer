{
  "nbformat": 4,
  "nbformat_minor": 0,
  "metadata": {
    "colab": {
      "provenance": [],
      "authorship_tag": "ABX9TyOVpe0hbK5KJ57tRuMmqyxr",
      "include_colab_link": true
    },
    "kernelspec": {
      "name": "python3",
      "display_name": "Python 3"
    },
    "language_info": {
      "name": "python"
    }
  },
  "cells": [
    {
      "cell_type": "markdown",
      "metadata": {
        "id": "view-in-github",
        "colab_type": "text"
      },
      "source": [
        "<a href=\"https://colab.research.google.com/github/samuel-c-santos/Sentinel-Time-Viewer/blob/main/GEE_swipe.ipynb\" target=\"_parent\"><img src=\"https://colab.research.google.com/assets/colab-badge.svg\" alt=\"Open In Colab\"/></a>"
      ]
    },
    {
      "cell_type": "code",
      "source": [
        "!pip install -q earthengine-api\n",
        "!pip install -q geemap\n",
        "!pip install -q ipywidgets\n",
        "!pip install -q pycrs\n",
        "!jupyter nbextension enable --py widgetsnbextension"
      ],
      "metadata": {
        "colab": {
          "base_uri": "https://localhost:8080/"
        },
        "id": "J2CdrYpjZNk9",
        "outputId": "9edeeeee-ddbd-4b1d-b5c1-4241e71ed598"
      },
      "execution_count": 1,
      "outputs": [
        {
          "output_type": "stream",
          "name": "stdout",
          "text": [
            "\u001b[?25l   \u001b[90m━━━━━━━━━━━━━━━━━━━━━━━━━━━━━━━━━━━━━━━━\u001b[0m \u001b[32m0.0/1.6 MB\u001b[0m \u001b[31m?\u001b[0m eta \u001b[36m-:--:--\u001b[0m\r\u001b[2K   \u001b[91m━━━━━━━━━━━━━━━━━━━━━\u001b[0m\u001b[90m╺\u001b[0m\u001b[90m━━━━━━━━━━━━━━━━━━\u001b[0m \u001b[32m0.8/1.6 MB\u001b[0m \u001b[31m27.3 MB/s\u001b[0m eta \u001b[36m0:00:01\u001b[0m\r\u001b[2K   \u001b[91m━━━━━━━━━━━━━━━━━━━━━━━━━━━━━━━━━━━━━━━\u001b[0m\u001b[91m╸\u001b[0m \u001b[32m1.6/1.6 MB\u001b[0m \u001b[31m26.4 MB/s\u001b[0m eta \u001b[36m0:00:01\u001b[0m\r\u001b[2K   \u001b[90m━━━━━━━━━━━━━━━━━━━━━━━━━━━━━━━━━━━━━━━━\u001b[0m \u001b[32m1.6/1.6 MB\u001b[0m \u001b[31m14.7 MB/s\u001b[0m eta \u001b[36m0:00:00\u001b[0m\n",
            "\u001b[?25h  Preparing metadata (setup.py) ... \u001b[?25l\u001b[?25hdone\n",
            "  Building wheel for pycrs (setup.py) ... \u001b[?25l\u001b[?25hdone\n",
            "Enabling notebook extension jupyter-js-widgets/extension...\n",
            "Paths used for configuration of notebook: \n",
            "    \t/root/.jupyter/nbconfig/notebook.json\n",
            "Paths used for configuration of notebook: \n",
            "    \t\n",
            "      - Validating: \u001b[32mOK\u001b[0m\n",
            "Paths used for configuration of notebook: \n",
            "    \t/root/.jupyter/nbconfig/notebook.json\n"
          ]
        }
      ]
    },
    {
      "cell_type": "code",
      "execution_count": null,
      "metadata": {
        "id": "zz6vLm39YPZE"
      },
      "outputs": [],
      "source": [
        "import ee\n",
        "import geemap\n",
        "import datetime\n",
        "import zipfile\n",
        "import os\n",
        "from google.colab import files\n",
        "from IPython.display import display\n",
        "\n",
        "# Autenticar e inicializar\n",
        "ee.Authenticate()\n",
        "ee.Initialize(project='ee-samuelsantosambientalcourse')\n",
        "\n",
        "# 1) Upload e obtenção da geometria\n",
        "def upload_shapefile():\n",
        "    if os.path.exists(\"shapefile\"):\n",
        "        for f in os.listdir(\"shapefile\"):\n",
        "            os.remove(os.path.join(\"shapefile\", f))\n",
        "    else:\n",
        "        os.makedirs(\"shapefile\")\n",
        "    print(\"📂 Faça upload de um arquivo .zip com o shapefile...\")\n",
        "    uploaded = files.upload()\n",
        "    for fn in uploaded:\n",
        "        if fn.endswith(\".zip\"):\n",
        "            with zipfile.ZipFile(fn, \"r\") as z:\n",
        "                z.extractall(\"shapefile\")\n",
        "            print(\"✅ Shapefile extraído.\")\n",
        "            break\n",
        "    shp = [f for f in os.listdir(\"shapefile\") if f.endswith(\".shp\")]\n",
        "    if not shp:\n",
        "        print(\"❌ .shp não encontrado.\"); return None\n",
        "    return geemap.shp_to_ee(os.path.join(\"shapefile\", shp[0])).geometry()\n",
        "\n",
        "# … (imports e upload_shapefile continuam iguais) …\n",
        "\n",
        "# 1) Função de download sem clip (como antes)\n",
        "def get_sentinel_image(region, year, start_month=1, end_month=12):\n",
        "    start_date = datetime.date(year, start_month, 1)\n",
        "    end_date = datetime.date(year, end_month, 28 if end_month == 2 else 30)\n",
        "    coll = (ee.ImageCollection(\"COPERNICUS/S2_SR\")\n",
        "            .filterBounds(region)\n",
        "            .filterDate(str(start_date), str(end_date))\n",
        "            .filter(ee.Filter.lt('CLOUDY_PIXEL_PERCENTAGE', 10)))\n",
        "    if coll.size().getInfo() == 0:\n",
        "        empty = ee.Image.constant([0,0,0]).rename(['B4','B3','B2'])\n",
        "        return empty.set('year', year)\n",
        "    return coll.median().select(['B4','B3','B2']).set('year', year)\n",
        "\n",
        "# 2) Função corrigida de rasterizar o contorno\n",
        "def rasterizar_contorno(region, color='FF0000', width=3):\n",
        "    fc = ee.FeatureCollection([ee.Feature(region)])\n",
        "    # paint espera um FeatureCollection\n",
        "    outline = ee.Image().byte().paint(fc, 1, width)\n",
        "    return outline.visualize(palette=[color], opacity=1)\n",
        "\n",
        "# 3) Execução principal, tudo dentro do if\n",
        "feature = upload_shapefile()\n",
        "if feature:\n",
        "    region = feature\n",
        "    Map = geemap.Map()\n",
        "    Map.centerObject(region, zoom=15)\n",
        "\n",
        "    anos = list(range(2016, datetime.datetime.now().year + 1))\n",
        "    vis_params = {'min':0, 'max':3000, 'bands':['B4','B3','B2']}\n",
        "\n",
        "    # 4) Montar lista de imagens já com contorno “embutido”\n",
        "    images = []\n",
        "    for yr in anos:\n",
        "        base = get_sentinel_image(region, yr)\n",
        "        rgb  = base.visualize(**vis_params)\n",
        "        cont = rasterizar_contorno(region, color='00FF00', width=2)\n",
        "        combo = ee.ImageCollection([rgb, cont]).mosaic().set('year', yr)\n",
        "        images.append(combo)\n",
        "\n",
        "    # 5) Passar essa coleção com contorno ao ts_inspector\n",
        "    Map.ts_inspector(\n",
        "        left_ts=ee.ImageCollection(images),\n",
        "        right_ts=ee.ImageCollection(images),\n",
        "        left_names=[str(y) for y in anos],\n",
        "        right_names=[str(y) for y in anos],\n",
        "        left_vis={}, right_vis={},\n",
        "        width='80px'\n",
        "    )\n",
        "\n",
        "    Map.add_text(\n",
        "        text='Comparação Sentinel‑2 por ano',\n",
        "        position='bottomright',\n",
        "        font_size='16pt', font_color='white', font_weight='bold'\n",
        "    )\n",
        "\n",
        "    display(Map)"
      ]
    }
  ]
}